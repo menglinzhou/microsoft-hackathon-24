{
 "cells": [
  {
   "cell_type": "markdown",
   "metadata": {},
   "source": [
    "# Apply Hugging Face Transformer---LoRA on AI-generated data detection"
   ]
  },
  {
   "cell_type": "code",
   "execution_count": 6,
   "metadata": {},
   "outputs": [
    {
     "data": {
      "text/html": [
       "<div>\n",
       "<style scoped>\n",
       "    .dataframe tbody tr th:only-of-type {\n",
       "        vertical-align: middle;\n",
       "    }\n",
       "\n",
       "    .dataframe tbody tr th {\n",
       "        vertical-align: top;\n",
       "    }\n",
       "\n",
       "    .dataframe thead th {\n",
       "        text-align: right;\n",
       "    }\n",
       "</style>\n",
       "<table border=\"1\" class=\"dataframe\">\n",
       "  <thead>\n",
       "    <tr style=\"text-align: right;\">\n",
       "      <th></th>\n",
       "      <th>0</th>\n",
       "      <th>1</th>\n",
       "      <th>2</th>\n",
       "      <th>3</th>\n",
       "      <th>4</th>\n",
       "    </tr>\n",
       "  </thead>\n",
       "  <tbody>\n",
       "    <tr>\n",
       "      <th>0</th>\n",
       "      <td>NASA chief and Democratic lawmakers urge inves...</td>\n",
       "      <td>INSIDER ·  via Yahoo News</td>\n",
       "      <td>34 minutes ago ·</td>\n",
       "      <td>The existence of an ongoing Musk-Putin relatio...</td>\n",
       "      <td>https://www.yahoo.com/news/nasa-chief-democrat...</td>\n",
       "    </tr>\n",
       "    <tr>\n",
       "      <th>1</th>\n",
       "      <td>2024 election updates: Melania Trump speaks at...</td>\n",
       "      <td>ABC News ·  via Yahoo News</td>\n",
       "      <td>13 minutes ago ·</td>\n",
       "      <td>Former President Donald Trump will speak befor...</td>\n",
       "      <td>https://www.yahoo.com/news/2024-election-updat...</td>\n",
       "    </tr>\n",
       "    <tr>\n",
       "      <th>2</th>\n",
       "      <td>Trump backer calls Harris the ‘antichrist’ as ...</td>\n",
       "      <td>The Independent ·  via Yahoo News</td>\n",
       "      <td>2 hours ago ·</td>\n",
       "      <td>“I just want to tell President Trump that I’m ...</td>\n",
       "      <td>https://www.yahoo.com/news/trump-backer-calls-...</td>\n",
       "    </tr>\n",
       "    <tr>\n",
       "      <th>3</th>\n",
       "      <td>Yen Weakens, Japan Stocks Face Pressure on Ele...</td>\n",
       "      <td>Bloomberg ·  via Yahoo News</td>\n",
       "      <td>1 hour ago ·</td>\n",
       "      <td>(Bloomberg) -- The yen fell to three-month low...</td>\n",
       "      <td>https://www.yahoo.com/news/yen-weakens-japan-s...</td>\n",
       "    </tr>\n",
       "    <tr>\n",
       "      <th>4</th>\n",
       "      <td>Walz plays 'Madden' with AOC on Twitch as Harr...</td>\n",
       "      <td>Yahoo News</td>\n",
       "      <td>1 hour ago ·</td>\n",
       "      <td>He has also aligned himself with popular figur...</td>\n",
       "      <td>https://www.yahoo.com/news/walz-plays-madden-w...</td>\n",
       "    </tr>\n",
       "  </tbody>\n",
       "</table>\n",
       "</div>"
      ],
      "text/plain": [
       "                                                   0  \\\n",
       "0  NASA chief and Democratic lawmakers urge inves...   \n",
       "1  2024 election updates: Melania Trump speaks at...   \n",
       "2  Trump backer calls Harris the ‘antichrist’ as ...   \n",
       "3  Yen Weakens, Japan Stocks Face Pressure on Ele...   \n",
       "4  Walz plays 'Madden' with AOC on Twitch as Harr...   \n",
       "\n",
       "                                   1                 2  \\\n",
       "0          INSIDER ·  via Yahoo News  34 minutes ago ·   \n",
       "1         ABC News ·  via Yahoo News  13 minutes ago ·   \n",
       "2  The Independent ·  via Yahoo News     2 hours ago ·   \n",
       "3        Bloomberg ·  via Yahoo News      1 hour ago ·   \n",
       "4                         Yahoo News      1 hour ago ·   \n",
       "\n",
       "                                                   3  \\\n",
       "0  The existence of an ongoing Musk-Putin relatio...   \n",
       "1  Former President Donald Trump will speak befor...   \n",
       "2  “I just want to tell President Trump that I’m ...   \n",
       "3  (Bloomberg) -- The yen fell to three-month low...   \n",
       "4  He has also aligned himself with popular figur...   \n",
       "\n",
       "                                                   4  \n",
       "0  https://www.yahoo.com/news/nasa-chief-democrat...  \n",
       "1  https://www.yahoo.com/news/2024-election-updat...  \n",
       "2  https://www.yahoo.com/news/trump-backer-calls-...  \n",
       "3  https://www.yahoo.com/news/yen-weakens-japan-s...  \n",
       "4  https://www.yahoo.com/news/walz-plays-madden-w...  "
      ]
     },
     "execution_count": 6,
     "metadata": {},
     "output_type": "execute_result"
    }
   ],
   "source": [
    "import pandas as pd\n",
    "df_origin = pd.read_csv(\"../data/yahoo/yahoo.csv\")\n",
    "df_origin.head()"
   ]
  },
  {
   "cell_type": "code",
   "execution_count": 7,
   "metadata": {},
   "outputs": [
    {
     "data": {
      "text/plain": [
       "(2911, 5)"
      ]
     },
     "execution_count": 7,
     "metadata": {},
     "output_type": "execute_result"
    }
   ],
   "source": [
    "df_origin.shape"
   ]
  },
  {
   "cell_type": "markdown",
   "metadata": {},
   "source": [
    "## Text regeneration"
   ]
  },
  {
   "cell_type": "code",
   "execution_count": null,
   "metadata": {},
   "outputs": [],
   "source": [
    "import openai\n",
    "import os\n",
    "os.getenv(\"OPENAI_API_KEY\")"
   ]
  },
  {
   "cell_type": "code",
   "execution_count": 12,
   "metadata": {},
   "outputs": [],
   "source": [
    "def regenerate_text(text):\n",
    "    response = openai.chat.completions.create(\n",
    "        model=\"gpt-4o-mini\",  # Replace with the correct model name if necessary\n",
    "        messages=[\n",
    "            {\"role\": \"system\", \"content\": \"You are a helpful assistant that rewrites text.\"},\n",
    "            {\"role\": \"user\", \"content\": f\"Rewrite the following text: {text}\"}\n",
    "        ],\n",
    "        max_tokens=1000,\n",
    "        temperature=0.7,\n",
    "    )\n",
    "    return response.choices[0].message.content"
   ]
  },
  {
   "cell_type": "code",
   "execution_count": null,
   "metadata": {},
   "outputs": [],
   "source": [
    "# test case\n",
    "regenerate_text(\"Here is the text I want to regenerate.\")"
   ]
  },
  {
   "cell_type": "code",
   "execution_count": 14,
   "metadata": {},
   "outputs": [],
   "source": [
    "df = df_origin"
   ]
  },
  {
   "cell_type": "code",
   "execution_count": null,
   "metadata": {},
   "outputs": [],
   "source": [
    "# Assuming the text you want to rewrite is in the first column\n",
    "df['rewritten_text'] = df.iloc[:, 0].apply(regenerate_text)"
   ]
  },
  {
   "cell_type": "code",
   "execution_count": null,
   "metadata": {},
   "outputs": [],
   "source": [
    "# Save the DataFrame with the rewritten texts\n",
    "df.to_csv(\"../data/yahoo/yahoo_rewritten.csv\", index=False)"
   ]
  }
 ],
 "metadata": {
  "kernelspec": {
   "display_name": ".venv",
   "language": "python",
   "name": "python3"
  },
  "language_info": {
   "codemirror_mode": {
    "name": "ipython",
    "version": 3
   },
   "file_extension": ".py",
   "mimetype": "text/x-python",
   "name": "python",
   "nbconvert_exporter": "python",
   "pygments_lexer": "ipython3",
   "version": "3.13.0"
  }
 },
 "nbformat": 4,
 "nbformat_minor": 2
}
